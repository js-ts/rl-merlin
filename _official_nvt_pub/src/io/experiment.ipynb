{
 "cells": [
  {
   "cell_type": "code",
   "execution_count": 1,
   "source": [
    "# Valid SOURCES\n",
    "s1 = 'gs://rl-gcloud-alpha/'\n",
    "s2 = 'gs://rl-gcloud-alpha/output'\n",
    "s3 = 'gs://rl-gcloud-alpha/test.txt'\n",
    "s4 = 'gs://rl-gcloud-alpha/*'\n",
    "s5 = 'gs://rl-gcloud-alpha/**'\n",
    "s6 = 'gs://workshop-datasets/criteo-parque/'\n",
    "s7 = 'gs://workshop-datasets/criteo-parque/*'\n",
    "\n",
    "# Invalid GCS SOURCES\n",
    "is1 = 'gs://rl-gcloud-alph/'\n",
    "is2 = '/rl-gcloud-alpha/output'\n",
    "is3 = 'gs://rl-gcloud-alpha/test' # file or directory\n",
    "\n",
    "# Valid Local SOURCES\n",
    "l1 = '/home/renatoleite/data'\n",
    "l2 = '/home/renatoleite/output'"
   ],
   "outputs": [],
   "metadata": {}
  },
  {
   "cell_type": "code",
   "execution_count": 2,
   "source": [
    "from gcs_copy_utils import GcsCopyUtils"
   ],
   "outputs": [],
   "metadata": {}
  },
  {
   "cell_type": "code",
   "execution_count": 3,
   "source": [
    "test = GcsCopyUtils(s1, l2, l2, 'gs://rl-gcloud-alpha/results', True, 'txt')"
   ],
   "outputs": [],
   "metadata": {}
  },
  {
   "cell_type": "code",
   "execution_count": 4,
   "source": [
    "print(test.compose_gcloud_download_cmd())\n",
    "print(test.compose_gcloud_upload_cmd())"
   ],
   "outputs": [
    {
     "output_type": "stream",
     "name": "stdout",
     "text": [
      "['gcloud', 'alpha', 'storage', 'cp', 'gs://rl-gcloud-alpha/**.txt', '/home/renatoleite/output']\n",
      "['gcloud', 'alpha', 'storage', 'cp', '-r', '/home/renatoleite/output', 'gs://rl-gcloud-alpha/results']\n"
     ]
    }
   ],
   "metadata": {}
  },
  {
   "cell_type": "code",
   "execution_count": 5,
   "source": [
    "download = test.compose_gcloud_download_cmd()\n",
    "upload = test.compose_gcloud_upload_cmd()"
   ],
   "outputs": [],
   "metadata": {}
  },
  {
   "cell_type": "code",
   "execution_count": 6,
   "source": [
    "test.execute_gcloud_cmd(download)"
   ],
   "outputs": [
    {
     "output_type": "execute_result",
     "data": {
      "text/plain": [
       "{'returncode': 0,\n",
       " 'stdout': '',\n",
       " 'stderr': 'Copying gs://rl-gcloud-alpha/output/opa.txt to file:///home/renatoleite/output/opa.txt\\nCopying gs://rl-gcloud-alpha/output/s1/a.txt to file:///home/renatoleite/output/a.txt\\n  \\nCopying gs://rl-gcloud-alpha/output/s2/b.txt to file:///home/renatoleite/output/b.txt\\nCopying gs://rl-gcloud-alpha/results/a.txt to file:///home/renatoleite/output/a.txt\\nSkipping FileDownloadTask for file:///home/renatoleite/output/a.txt. This can occur if a cp command results in multiple writes to the same resource.\\nCopying gs://rl-gcloud-alpha/results/b.txt to file:///home/renatoleite/output/b.txt\\nSkipping FileDownloadTask for file:///home/renatoleite/output/b.txt. This can occur if a cp command results in multiple writes to the same resource.\\nCopying gs://rl-gcloud-alpha/results/opa.txt to file:///home/renatoleite/output/opa.txt\\nSkipping FileDownloadTask for file:///home/renatoleite/output/opa.txt. This can occur if a cp command results in multiple writes to the same resource.\\nCopying gs://rl-gcloud-alpha/results/renato.txt to file:///home/renatoleite/output/renato.txt\\nCopying gs://rl-gcloud-alpha/results/test.txt to file:///home/renatoleite/output/test.txt\\nCopying gs://rl-gcloud-alpha/sub1/renato.txt to file:///home/renatoleite/output/renato.txt\\nSkipping FileDownloadTask for file:///home/renatoleite/output/renato.txt. This can occur if a cp command results in multiple writes to the same resource.\\nCopying gs://rl-gcloud-alpha/test.txt to file:///home/renatoleite/output/test.txt\\nSkipping FileDownloadTask for file:///home/renatoleite/output/test.txt. This can occur if a cp command results in multiple writes to the same resource.\\n..\\n\\nAverage throughput: 418.9B/s\\n'}"
      ]
     },
     "metadata": {},
     "execution_count": 6
    }
   ],
   "metadata": {}
  },
  {
   "cell_type": "code",
   "execution_count": 7,
   "source": [
    "test.execute_gcloud_cmd(upload)"
   ],
   "outputs": [
    {
     "output_type": "execute_result",
     "data": {
      "text/plain": [
       "{'returncode': 0,\n",
       " 'stdout': '',\n",
       " 'stderr': 'Copying file:///home/renatoleite/output/test.txt to gs://rl-gcloud-alpha/results/test.txt\\nCopying file:///home/renatoleite/output/a.txt to gs://rl-gcloud-alpha/results/a.txt\\n  \\nCopying file:///home/renatoleite/output/opa.txt to gs://rl-gcloud-alpha/results/opa.txt\\nCopying file:///home/renatoleite/output/renato.txt to gs://rl-gcloud-alpha/results/renato.txt\\nCopying file:///home/renatoleite/output/b.txt to gs://rl-gcloud-alpha/results/b.txt\\n.\\n\\nAverage throughput: 645.0B/s\\n'}"
      ]
     },
     "metadata": {},
     "execution_count": 7
    }
   ],
   "metadata": {}
  },
  {
   "cell_type": "code",
   "execution_count": null,
   "source": [],
   "outputs": [],
   "metadata": {}
  }
 ],
 "metadata": {
  "orig_nbformat": 4,
  "language_info": {
   "name": "python",
   "version": "3.7.10",
   "mimetype": "text/x-python",
   "codemirror_mode": {
    "name": "ipython",
    "version": 3
   },
   "pygments_lexer": "ipython3",
   "nbconvert_exporter": "python",
   "file_extension": ".py"
  },
  "kernelspec": {
   "name": "python3",
   "display_name": "Python 3.7.10 64-bit ('base': conda)"
  },
  "interpreter": {
   "hash": "98b0a9b7b4eaaa670588a142fd0a9b87eaafe866f1db4228be72b4211d12040f"
  }
 },
 "nbformat": 4,
 "nbformat_minor": 2
}