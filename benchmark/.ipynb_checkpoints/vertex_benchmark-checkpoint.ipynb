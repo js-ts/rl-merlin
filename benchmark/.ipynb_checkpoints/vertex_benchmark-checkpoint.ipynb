{
 "cells": [
  {
   "cell_type": "code",
   "execution_count": 10,
   "id": "9ec16544",
   "metadata": {},
   "outputs": [],
   "source": [
    "import tensorflow as tf"
   ]
  },
  {
   "cell_type": "code",
   "execution_count": 17,
   "id": "ff8cc5a3",
   "metadata": {},
   "outputs": [],
   "source": [
    "from google.cloud import aiplatform as vertex_ai\n",
    "import time"
   ]
  },
  {
   "cell_type": "code",
   "execution_count": 12,
   "id": "88086911",
   "metadata": {},
   "outputs": [],
   "source": [
    "PROJECT = 'merlin-on-gcp'\n",
    "REGION = 'us-central1'\n",
    "\n",
    "STAGING_BUCKET = 'gs://renatoleite-merlin-staging'\n",
    "\n",
    "VERTEX_SA = '659831510405-compute@developer.gserviceaccount.com'"
   ]
  },
  {
   "cell_type": "code",
   "execution_count": 13,
   "id": "5fd86f03",
   "metadata": {},
   "outputs": [],
   "source": [
    "TRAIN_IMAGE = 'gcr.io/merlin-on-gcp/nvt-conda-build'"
   ]
  },
  {
   "cell_type": "code",
   "execution_count": 14,
   "id": "2c82fecb",
   "metadata": {},
   "outputs": [
    {
     "name": "stdout",
     "output_type": "stream",
     "text": [
      "gcr.io/merlin-on-gcp/nvt-conda-build\n",
      "gs://renatoleite-merlin-staging\n"
     ]
    }
   ],
   "source": [
    "print(TRAIN_IMAGE)\n",
    "print(STAGING_BUCKET)"
   ]
  },
  {
   "cell_type": "code",
   "execution_count": 15,
   "id": "4a92c891",
   "metadata": {},
   "outputs": [],
   "source": [
    "vertex_ai.init(\n",
    "    project=PROJECT,\n",
    "    location=REGION,\n",
    "    staging_bucket=STAGING_BUCKET\n",
    ")"
   ]
  },
  {
   "cell_type": "markdown",
   "id": "09dd9ef5",
   "metadata": {},
   "source": [
    "## Submit Vertex job with FUSE paths (/gcs/)"
   ]
  },
  {
   "cell_type": "code",
   "execution_count": 19,
   "id": "6ee9176d",
   "metadata": {},
   "outputs": [
    {
     "name": "stdout",
     "output_type": "stream",
     "text": [
      "[{'machine_spec': {'machine_type': 'a2-highgpu-2g', 'accelerator_type': 'NVIDIA_TESLA_A100', 'accelerator_count': 2}, 'replica_count': 1, 'container_spec': {'image_uri': 'gcr.io/merlin-on-gcp/nvt-conda-build', 'command': ['python', 'dask-nvtabular-criteo-benchmark.py'], 'args': ['--data-path=/gcs/workshop-datasets/criteo-parque', '--out-path=/gcs/renatoleite-merlin-staging/nvt-bench-testing/NVT_BENCHMARK_FUSE_20210811_203833', '--profile=/gcs/renatoleite-merlin-staging/nvt-bench-testing/result-fuse.html', '--devices=0,1', '--device-limit-frac=0.8', '--device-pool-frac=0.9', '--num-io-threads=0', '--part-mem-frac=0.125']}}]\n"
     ]
    }
   ],
   "source": [
    "job_name = 'NVT_BENCHMARK_FUSE_{}'.format(time.strftime(\"%Y%m%d_%H%M%S\"))\n",
    "base_output_dir = '{}/jobs/{}/test.txt'.format(STAGING_BUCKET, job_name)\n",
    "\n",
    "training_data = '/gcs/workshop-datasets/criteo-parque'\n",
    "output_path = f'/gcs/renatoleite-merlin-staging/nvt-bench-testing/{job_name}'\n",
    "\n",
    "worker_pool_specs =  [\n",
    "    {\n",
    "        \"machine_spec\": {\n",
    "            \"machine_type\": \"a2-highgpu-2g\",\n",
    "            \"accelerator_type\": \"NVIDIA_TESLA_A100\",\n",
    "            \"accelerator_count\": 2,\n",
    "        },\n",
    "        \"replica_count\": 1,\n",
    "        \"container_spec\": {\n",
    "            \"image_uri\": TRAIN_IMAGE,\n",
    "            \"command\": [\"python\", \"dask-nvtabular-criteo-benchmark.py\",],\n",
    "            \"args\": [\n",
    "                '--data-path=' + training_data,\n",
    "                '--out-path=' + output_path,\n",
    "                '--profile=' + '/gcs/renatoleite-merlin-staging/nvt-bench-testing/result-fuse.html',\n",
    "                '--devices=' + '0,1',\n",
    "                '--device-limit-frac=' + '0.8',\n",
    "                '--device-pool-frac=' + '0.9',\n",
    "                '--num-io-threads=' + '0',\n",
    "                '--part-mem-frac=' + '0.125'\n",
    "            ],\n",
    "        },\n",
    "    }\n",
    "]\n",
    "\n",
    "print(worker_pool_specs)"
   ]
  },
  {
   "cell_type": "code",
   "execution_count": 20,
   "id": "32e432d3",
   "metadata": {},
   "outputs": [
    {
     "name": "stdout",
     "output_type": "stream",
     "text": [
      "INFO:google.cloud.aiplatform.jobs:Creating CustomJob\n",
      "INFO:google.cloud.aiplatform.jobs:CustomJob created. Resource name: projects/659831510405/locations/us-central1/customJobs/6192128430239121408\n",
      "INFO:google.cloud.aiplatform.jobs:To use this CustomJob in another session:\n",
      "INFO:google.cloud.aiplatform.jobs:custom_job = aiplatform.CustomJob.get('projects/659831510405/locations/us-central1/customJobs/6192128430239121408')\n",
      "INFO:google.cloud.aiplatform.jobs:View Custom Job:\n",
      "https://console.cloud.google.com/ai/platform/locations/us-central1/training/6192128430239121408?project=659831510405\n",
      "INFO:google.cloud.aiplatform.jobs:CustomJob projects/659831510405/locations/us-central1/customJobs/6192128430239121408 current state:\n",
      "JobState.JOB_STATE_PENDING\n",
      "INFO:google.cloud.aiplatform.jobs:CustomJob projects/659831510405/locations/us-central1/customJobs/6192128430239121408 current state:\n",
      "JobState.JOB_STATE_PENDING\n",
      "INFO:google.cloud.aiplatform.jobs:CustomJob projects/659831510405/locations/us-central1/customJobs/6192128430239121408 current state:\n",
      "JobState.JOB_STATE_PENDING\n",
      "INFO:google.cloud.aiplatform.jobs:CustomJob projects/659831510405/locations/us-central1/customJobs/6192128430239121408 current state:\n",
      "JobState.JOB_STATE_PENDING\n",
      "INFO:google.cloud.aiplatform.jobs:CustomJob projects/659831510405/locations/us-central1/customJobs/6192128430239121408 current state:\n",
      "JobState.JOB_STATE_PENDING\n",
      "INFO:google.cloud.aiplatform.jobs:CustomJob projects/659831510405/locations/us-central1/customJobs/6192128430239121408 current state:\n",
      "JobState.JOB_STATE_PENDING\n"
     ]
    }
   ],
   "source": [
    "job = vertex_ai.CustomJob(\n",
    "    display_name=job_name,\n",
    "    worker_pool_specs=worker_pool_specs,\n",
    "    staging_bucket=base_output_dir\n",
    ")\n",
    "\n",
    "job.run(sync=False, \n",
    "        service_account=VERTEX_SA,\n",
    ")"
   ]
  },
  {
   "cell_type": "markdown",
   "id": "8b82f5b3",
   "metadata": {},
   "source": [
    "## Submit Vertex job with GSC paths (gs://)"
   ]
  },
  {
   "cell_type": "code",
   "execution_count": 21,
   "id": "ec5c4e74",
   "metadata": {},
   "outputs": [
    {
     "name": "stdout",
     "output_type": "stream",
     "text": [
      "[{'machine_spec': {'machine_type': 'a2-highgpu-2g', 'accelerator_type': 'NVIDIA_TESLA_A100', 'accelerator_count': 2}, 'replica_count': 1, 'container_spec': {'image_uri': 'gcr.io/merlin-on-gcp/nvt-conda-build', 'command': ['python', 'dask-nvtabular-criteo-benchmark.py'], 'args': ['--data-path=gs://workshop-datasets/criteo-parque/', '--out-path=gs://renatoleite-merlin-staging/nvt-bench-testing/NVT_BENCHMARK_GCS_20210811_204445', '--profile=gs://renatoleite-merlin-staging/nvt-bench-testing/result-gcs.html', '--devices=0,1', '--device-limit-frac=0.8', '--device-pool-frac=0.9', '--num-io-threads=0', '--part-mem-frac=0.125']}}]\n"
     ]
    }
   ],
   "source": [
    "job_name = 'NVT_BENCHMARK_GCS_{}'.format(time.strftime(\"%Y%m%d_%H%M%S\"))\n",
    "base_output_dir = '{}/jobs/{}/test.txt'.format(STAGING_BUCKET, job_name)\n",
    "\n",
    "training_data = 'gs://workshop-datasets/criteo-parque/'\n",
    "output_path = f'gs://renatoleite-merlin-staging/nvt-bench-testing/{job_name}'\n",
    "\n",
    "worker_pool_specs =  [\n",
    "    {\n",
    "        \"machine_spec\": {\n",
    "            \"machine_type\": \"a2-highgpu-2g\",\n",
    "            \"accelerator_type\": \"NVIDIA_TESLA_A100\",\n",
    "            \"accelerator_count\": 2,\n",
    "        },\n",
    "        \"replica_count\": 1,\n",
    "        \"container_spec\": {\n",
    "            \"image_uri\": TRAIN_IMAGE,\n",
    "            \"command\": [\"python\", \"dask-nvtabular-criteo-benchmark.py\",],\n",
    "            \"args\": [\n",
    "                '--data-path=' + training_data,\n",
    "                '--out-path=' + output_path,\n",
    "                '--profile=' + 'gs://renatoleite-merlin-staging/nvt-bench-testing/result-gcs.html',\n",
    "                '--devices=' + '0,1',\n",
    "                '--device-limit-frac=' + '0.8',\n",
    "                '--device-pool-frac=' + '0.9',\n",
    "                '--num-io-threads=' + '0',\n",
    "                '--part-mem-frac=' + '0.125'\n",
    "            ],\n",
    "        },\n",
    "    }\n",
    "]\n",
    "\n",
    "print(worker_pool_specs)"
   ]
  },
  {
   "cell_type": "code",
   "execution_count": 22,
   "id": "fa0661f3",
   "metadata": {},
   "outputs": [
    {
     "name": "stdout",
     "output_type": "stream",
     "text": [
      "INFO:google.cloud.aiplatform.jobs:Creating CustomJob\n",
      "INFO:google.cloud.aiplatform.jobs:CustomJob created. Resource name: projects/659831510405/locations/us-central1/customJobs/6034502443281154048\n",
      "INFO:google.cloud.aiplatform.jobs:To use this CustomJob in another session:\n",
      "INFO:google.cloud.aiplatform.jobs:custom_job = aiplatform.CustomJob.get('projects/659831510405/locations/us-central1/customJobs/6034502443281154048')\n",
      "INFO:google.cloud.aiplatform.jobs:View Custom Job:\n",
      "https://console.cloud.google.com/ai/platform/locations/us-central1/training/6034502443281154048?project=659831510405\n",
      "INFO:google.cloud.aiplatform.jobs:CustomJob projects/659831510405/locations/us-central1/customJobs/6034502443281154048 current state:\n",
      "JobState.JOB_STATE_PENDING\n",
      "INFO:google.cloud.aiplatform.jobs:CustomJob projects/659831510405/locations/us-central1/customJobs/6034502443281154048 current state:\n",
      "JobState.JOB_STATE_PENDING\n",
      "INFO:google.cloud.aiplatform.jobs:CustomJob projects/659831510405/locations/us-central1/customJobs/6034502443281154048 current state:\n",
      "JobState.JOB_STATE_PENDING\n",
      "INFO:google.cloud.aiplatform.jobs:CustomJob projects/659831510405/locations/us-central1/customJobs/6034502443281154048 current state:\n",
      "JobState.JOB_STATE_PENDING\n",
      "INFO:google.cloud.aiplatform.jobs:CustomJob projects/659831510405/locations/us-central1/customJobs/6034502443281154048 current state:\n",
      "JobState.JOB_STATE_PENDING\n",
      "INFO:google.cloud.aiplatform.jobs:CustomJob projects/659831510405/locations/us-central1/customJobs/6192128430239121408 current state:\n",
      "JobState.JOB_STATE_PENDING\n",
      "INFO:google.cloud.aiplatform.jobs:CustomJob projects/659831510405/locations/us-central1/customJobs/6034502443281154048 current state:\n",
      "JobState.JOB_STATE_PENDING\n",
      "INFO:google.cloud.aiplatform.jobs:CustomJob projects/659831510405/locations/us-central1/customJobs/6192128430239121408 current state:\n",
      "JobState.JOB_STATE_SUCCEEDED\n",
      "INFO:google.cloud.aiplatform.jobs:CustomJob run completed. Resource name: projects/659831510405/locations/us-central1/customJobs/6192128430239121408\n"
     ]
    }
   ],
   "source": [
    "job = vertex_ai.CustomJob(\n",
    "    display_name=job_name,\n",
    "    worker_pool_specs=worker_pool_specs,\n",
    "    staging_bucket=base_output_dir\n",
    ")\n",
    "\n",
    "job.run(sync=False, \n",
    "        service_account=VERTEX_SA,\n",
    ")"
   ]
  },
  {
   "cell_type": "code",
   "execution_count": null,
   "id": "702b6389",
   "metadata": {},
   "outputs": [],
   "source": []
  },
  {
   "cell_type": "code",
   "execution_count": null,
   "id": "6ebb61a3",
   "metadata": {},
   "outputs": [],
   "source": []
  },
  {
   "cell_type": "code",
   "execution_count": null,
   "id": "27ba9da5",
   "metadata": {},
   "outputs": [],
   "source": []
  }
 ],
 "metadata": {
  "environment": {
   "name": "common-cu110.m76",
   "type": "gcloud",
   "uri": "gcr.io/deeplearning-platform-release/base-cu110:m76"
  },
  "kernelspec": {
   "display_name": "Python 3",
   "language": "python",
   "name": "python3"
  },
  "language_info": {
   "codemirror_mode": {
    "name": "ipython",
    "version": 3
   },
   "file_extension": ".py",
   "mimetype": "text/x-python",
   "name": "python",
   "nbconvert_exporter": "python",
   "pygments_lexer": "ipython3",
   "version": "3.7.10"
  }
 },
 "nbformat": 4,
 "nbformat_minor": 5
}
