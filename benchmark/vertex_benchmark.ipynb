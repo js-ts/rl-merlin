{
 "cells": [
  {
   "cell_type": "code",
   "execution_count": 16,
   "source": [
    "import tensorflow as tf"
   ],
   "outputs": [],
   "metadata": {}
  },
  {
   "cell_type": "code",
   "execution_count": 17,
   "source": [
    "from google.cloud import aiplatform as vertex_ai\n",
    "import time"
   ],
   "outputs": [],
   "metadata": {}
  },
  {
   "cell_type": "code",
   "execution_count": 18,
   "source": [
    "PROJECT = 'renatoleite-mldemos'\n",
    "REGION = 'us-central1'\n",
    "\n",
    "STAGING_BUCKET = 'gs://renatoleite-staging'\n",
    "\n",
    "VERTEX_SA = '464015718044-compute@developer.gserviceaccount.com'"
   ],
   "outputs": [],
   "metadata": {}
  },
  {
   "cell_type": "code",
   "execution_count": 19,
   "source": [
    "TRAIN_IMAGE = 'gcr.io/renatoleite-mldemos/nvtabular-bench'"
   ],
   "outputs": [],
   "metadata": {}
  },
  {
   "cell_type": "code",
   "execution_count": 20,
   "source": [
    "print(TRAIN_IMAGE)\n",
    "print(STAGING_BUCKET)"
   ],
   "outputs": [
    {
     "output_type": "stream",
     "name": "stdout",
     "text": [
      "gcr.io/renatoleite-mldemos/nvtabular-bench\n",
      "gs://renatoleite-staging\n"
     ]
    }
   ],
   "metadata": {}
  },
  {
   "cell_type": "code",
   "execution_count": 21,
   "source": [
    "vertex_ai.init(\n",
    "    project=PROJECT,\n",
    "    location=REGION,\n",
    "    staging_bucket=STAGING_BUCKET\n",
    ")"
   ],
   "outputs": [],
   "metadata": {}
  },
  {
   "cell_type": "markdown",
   "source": [
    "## Submit Vertex job with FUSE paths (/gcs/)"
   ],
   "metadata": {}
  },
  {
   "cell_type": "code",
   "execution_count": 8,
   "source": [
    "job_name = 'NVT_BENCHMARK_FUSE_{}'.format(time.strftime(\"%Y%m%d_%H%M%S\"))\n",
    "base_output_dir = '{}/jobs/{}/'.format(STAGING_BUCKET, job_name)\n",
    "\n",
    "training_data = '/gcs/workshop-datasets/criteo-parque/'\n",
    "output_path = f'/gcs/renatoleite-staging/nvt-benchmark/{job_name}/'"
   ],
   "outputs": [],
   "metadata": {}
  },
  {
   "cell_type": "code",
   "execution_count": 22,
   "source": [
    "print(job_name)\n",
    "print(base_output_dir)\n",
    "print(training_data)\n",
    "print(output_path)"
   ],
   "outputs": [
    {
     "output_type": "stream",
     "name": "stdout",
     "text": [
      "NVT_BENCHMARK_FUSE_20210812_204827\n",
      "gs://renatoleite-staging/jobs/NVT_BENCHMARK_FUSE_20210812_204827/\n",
      "/gcs/workshop-datasets/criteo-parque/\n",
      "/gcs/renatoleite-staging/nvt-benchmark/NVT_BENCHMARK_FUSE_20210812_204827/\n"
     ]
    }
   ],
   "metadata": {}
  },
  {
   "cell_type": "code",
   "execution_count": 23,
   "source": [
    "worker_pool_specs =  [\n",
    "    {\n",
    "        \"machine_spec\": {\n",
    "            \"machine_type\": \"a2-highgpu-2g\",\n",
    "            \"accelerator_type\": \"NVIDIA_TESLA_A100\",\n",
    "            \"accelerator_count\": 2,\n",
    "        },\n",
    "        \"replica_count\": 1,\n",
    "        \"container_spec\": {\n",
    "            \"image_uri\": TRAIN_IMAGE,\n",
    "            \"command\": [\"python\", \"dask-nvtabular-criteo-benchmark.py\",],\n",
    "            \"args\": [\n",
    "                '--data-path=' + training_data,\n",
    "                '--out-path=' + output_path,\n",
    "                '--profile=' + '/gcs/renatoleite-staging/nvt-bench-testing/result-fuse.html',\n",
    "                '--devices=' + '0,1'\n",
    "            ],\n",
    "        },\n",
    "    }\n",
    "]\n",
    "\n",
    "print(worker_pool_specs)"
   ],
   "outputs": [
    {
     "output_type": "stream",
     "name": "stdout",
     "text": [
      "[{'machine_spec': {'machine_type': 'a2-highgpu-2g', 'accelerator_type': 'NVIDIA_TESLA_A100', 'accelerator_count': 2}, 'replica_count': 1, 'container_spec': {'image_uri': 'gcr.io/renatoleite-mldemos/nvtabular-bench', 'command': ['python', 'dask-nvtabular-criteo-benchmark.py'], 'args': ['--data-path=/gcs/workshop-datasets/criteo-parque/', '--out-path=/gcs/renatoleite-staging/nvt-benchmark/NVT_BENCHMARK_FUSE_20210812_204827/', '--profile=/gcs/renatoleite-staging/nvt-bench-testing/result-fuse.html', '--devices=0,1']}}]\n"
     ]
    }
   ],
   "metadata": {}
  },
  {
   "cell_type": "code",
   "execution_count": 24,
   "source": [
    "job = vertex_ai.CustomJob(\n",
    "    display_name=job_name,\n",
    "    worker_pool_specs=worker_pool_specs,\n",
    "    staging_bucket=base_output_dir\n",
    ")\n",
    "\n",
    "job.run(sync=False, \n",
    "        service_account=VERTEX_SA,\n",
    ")"
   ],
   "outputs": [
    {
     "output_type": "stream",
     "name": "stdout",
     "text": [
      "INFO:google.cloud.aiplatform.jobs:Creating CustomJob\n"
     ]
    }
   ],
   "metadata": {}
  },
  {
   "cell_type": "markdown",
   "source": [
    "## Submit Vertex job with GSC paths (gs://)"
   ],
   "metadata": {}
  },
  {
   "cell_type": "code",
   "execution_count": 21,
   "source": [
    "job_name = 'NVT_BENCHMARK_GCS_{}'.format(time.strftime(\"%Y%m%d_%H%M%S\"))\n",
    "base_output_dir = '{}/jobs/{}/test.txt'.format(STAGING_BUCKET, job_name)\n",
    "\n",
    "training_data = 'gs://workshop-datasets/criteo-parque/'\n",
    "output_path = f'gs://renatoleite-merlin-staging/nvt-bench-testing/{job_name}'\n",
    "\n",
    "worker_pool_specs =  [\n",
    "    {\n",
    "        \"machine_spec\": {\n",
    "            \"machine_type\": \"a2-highgpu-2g\",\n",
    "            \"accelerator_type\": \"NVIDIA_TESLA_A100\",\n",
    "            \"accelerator_count\": 2,\n",
    "        },\n",
    "        \"replica_count\": 1,\n",
    "        \"container_spec\": {\n",
    "            \"image_uri\": TRAIN_IMAGE,\n",
    "            \"command\": [\"python\", \"dask-nvtabular-criteo-benchmark.py\",],\n",
    "            \"args\": [\n",
    "                '--data-path=' + training_data,\n",
    "                '--out-path=' + output_path,\n",
    "                '--profile=' + 'gs://renatoleite-merlin-staging/nvt-bench-testing/result-gcs.html',\n",
    "                '--devices=' + '0,1',\n",
    "                '--device-limit-frac=' + '0.8',\n",
    "                '--device-pool-frac=' + '0.9',\n",
    "                '--num-io-threads=' + '0',\n",
    "                '--part-mem-frac=' + '0.125'\n",
    "            ],\n",
    "        },\n",
    "    }\n",
    "]\n",
    "\n",
    "print(worker_pool_specs)"
   ],
   "outputs": [
    {
     "output_type": "stream",
     "name": "stdout",
     "text": [
      "[{'machine_spec': {'machine_type': 'a2-highgpu-2g', 'accelerator_type': 'NVIDIA_TESLA_A100', 'accelerator_count': 2}, 'replica_count': 1, 'container_spec': {'image_uri': 'gcr.io/merlin-on-gcp/nvt-conda-build', 'command': ['python', 'dask-nvtabular-criteo-benchmark.py'], 'args': ['--data-path=gs://workshop-datasets/criteo-parque/', '--out-path=gs://renatoleite-merlin-staging/nvt-bench-testing/NVT_BENCHMARK_GCS_20210811_204445', '--profile=gs://renatoleite-merlin-staging/nvt-bench-testing/result-gcs.html', '--devices=0,1', '--device-limit-frac=0.8', '--device-pool-frac=0.9', '--num-io-threads=0', '--part-mem-frac=0.125']}}]\n"
     ]
    }
   ],
   "metadata": {}
  },
  {
   "cell_type": "code",
   "execution_count": 22,
   "source": [
    "job = vertex_ai.CustomJob(\n",
    "    display_name=job_name,\n",
    "    worker_pool_specs=worker_pool_specs,\n",
    "    staging_bucket=base_output_dir\n",
    ")\n",
    "\n",
    "job.run(sync=False, \n",
    "        service_account=VERTEX_SA,\n",
    ")"
   ],
   "outputs": [
    {
     "output_type": "stream",
     "name": "stdout",
     "text": [
      "INFO:google.cloud.aiplatform.jobs:Creating CustomJob\n",
      "INFO:google.cloud.aiplatform.jobs:CustomJob created. Resource name: projects/659831510405/locations/us-central1/customJobs/6034502443281154048\n",
      "INFO:google.cloud.aiplatform.jobs:To use this CustomJob in another session:\n",
      "INFO:google.cloud.aiplatform.jobs:custom_job = aiplatform.CustomJob.get('projects/659831510405/locations/us-central1/customJobs/6034502443281154048')\n",
      "INFO:google.cloud.aiplatform.jobs:View Custom Job:\n",
      "https://console.cloud.google.com/ai/platform/locations/us-central1/training/6034502443281154048?project=659831510405\n",
      "INFO:google.cloud.aiplatform.jobs:CustomJob projects/659831510405/locations/us-central1/customJobs/6034502443281154048 current state:\n",
      "JobState.JOB_STATE_PENDING\n",
      "INFO:google.cloud.aiplatform.jobs:CustomJob projects/659831510405/locations/us-central1/customJobs/6034502443281154048 current state:\n",
      "JobState.JOB_STATE_PENDING\n",
      "INFO:google.cloud.aiplatform.jobs:CustomJob projects/659831510405/locations/us-central1/customJobs/6034502443281154048 current state:\n",
      "JobState.JOB_STATE_PENDING\n",
      "INFO:google.cloud.aiplatform.jobs:CustomJob projects/659831510405/locations/us-central1/customJobs/6034502443281154048 current state:\n",
      "JobState.JOB_STATE_PENDING\n",
      "INFO:google.cloud.aiplatform.jobs:CustomJob projects/659831510405/locations/us-central1/customJobs/6034502443281154048 current state:\n",
      "JobState.JOB_STATE_PENDING\n",
      "INFO:google.cloud.aiplatform.jobs:CustomJob projects/659831510405/locations/us-central1/customJobs/6192128430239121408 current state:\n",
      "JobState.JOB_STATE_PENDING\n",
      "INFO:google.cloud.aiplatform.jobs:CustomJob projects/659831510405/locations/us-central1/customJobs/6034502443281154048 current state:\n",
      "JobState.JOB_STATE_PENDING\n",
      "INFO:google.cloud.aiplatform.jobs:CustomJob projects/659831510405/locations/us-central1/customJobs/6192128430239121408 current state:\n",
      "JobState.JOB_STATE_SUCCEEDED\n",
      "INFO:google.cloud.aiplatform.jobs:CustomJob run completed. Resource name: projects/659831510405/locations/us-central1/customJobs/6192128430239121408\n"
     ]
    }
   ],
   "metadata": {}
  },
  {
   "cell_type": "code",
   "execution_count": null,
   "source": [],
   "outputs": [],
   "metadata": {}
  },
  {
   "cell_type": "code",
   "execution_count": null,
   "source": [],
   "outputs": [],
   "metadata": {}
  },
  {
   "cell_type": "code",
   "execution_count": null,
   "source": [],
   "outputs": [],
   "metadata": {}
  }
 ],
 "metadata": {
  "environment": {
   "name": "common-cu110.m76",
   "type": "gcloud",
   "uri": "gcr.io/deeplearning-platform-release/base-cu110:m76"
  },
  "kernelspec": {
   "name": "python3",
   "display_name": "Python 3.9.6 64-bit ('env-tf-benchmark': venv)"
  },
  "language_info": {
   "codemirror_mode": {
    "name": "ipython",
    "version": 3
   },
   "file_extension": ".py",
   "mimetype": "text/x-python",
   "name": "python",
   "nbconvert_exporter": "python",
   "pygments_lexer": "ipython3",
   "version": "3.9.6"
  },
  "interpreter": {
   "hash": "dc4b0161b689a4131dd899d59864485d8c176eb232ab4fb71a7900509626885d"
  }
 },
 "nbformat": 4,
 "nbformat_minor": 5
}