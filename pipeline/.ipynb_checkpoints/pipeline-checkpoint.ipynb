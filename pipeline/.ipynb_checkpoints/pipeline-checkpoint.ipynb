{
 "cells": [
  {
   "cell_type": "markdown",
   "id": "29f56500",
   "metadata": {},
   "source": [
    "# Imports"
   ]
  },
  {
   "cell_type": "code",
   "execution_count": 1,
   "id": "3badaec9",
   "metadata": {},
   "outputs": [],
   "source": [
    "import kfp\n",
    "from kfp.v2 import compiler\n",
    "from kfp.components import create_component_from_func\n",
    "from kfp.v2.google.client import AIPlatformClient\n",
    "from google.cloud import aiplatform\n",
    "from google_cloud_pipeline_components import aiplatform as gcc_aip\n",
    "from kfp.v2.google import experimental"
   ]
  },
  {
   "cell_type": "code",
   "execution_count": 2,
   "id": "8b007d74",
   "metadata": {},
   "outputs": [],
   "source": [
    "from kfp.v2 import dsl\n",
    "from kfp.v2.dsl import (Artifact, Dataset, Input, InputPath, Model, Output,\n",
    "                        OutputPath, component)\n",
    "from kfp.v2.google.client import AIPlatformClient"
   ]
  },
  {
   "cell_type": "code",
   "execution_count": 3,
   "id": "b913824b",
   "metadata": {},
   "outputs": [],
   "source": [
    "project_id = 'renatoleite-321218'\n",
    "region = 'us-central1'\n",
    "pipeline_root_path = 'gs://renatoleite-pipeline-samples/pipeline_root'"
   ]
  },
  {
   "cell_type": "markdown",
   "id": "b87d52ae",
   "metadata": {},
   "source": [
    "# Execute Vertex Training Job"
   ]
  },
  {
   "cell_type": "code",
   "execution_count": null,
   "id": "7685d700",
   "metadata": {},
   "outputs": [],
   "source": [
    "@component\n",
    "def test_nvt():\n",
    "    print('test')"
   ]
  },
  {
   "cell_type": "code",
   "execution_count": null,
   "id": "aff0bf93",
   "metadata": {},
   "outputs": [],
   "source": [
    "# Run as a Vertex training Job\n",
    "@kfp.dsl.pipeline(\n",
    "    name='pyfunc',\n",
    "    pipeline_root=pipeline_root_path)\n",
    "def pipeline(project_id: str):\n",
    "    nvt_task = test_nvt()\n",
    "    experimental.run_as_aiplatform_custom_job(\n",
    "        nvt_task,\n",
    "        worker_pool_specs=[\n",
    "            {\n",
    "                \"containerSpec\": {\n",
    "                    \"imageUri\": \"gcr.io/renatoleite-321218/test-nvt\",\n",
    "                },\n",
    "                \"replicaCount\": \"1\",\n",
    "                \"machineSpec\": {\n",
    "                    \"machineType\": \"n1-standard-16\",\n",
    "                    \"accelerator_type\": aiplatform.gapic.AcceleratorType.NVIDIA_TESLA_T4,\n",
    "                    \"accelerator_count\": 2,\n",
    "                },\n",
    "            }\n",
    "        ],\n",
    "    )"
   ]
  },
  {
   "cell_type": "code",
   "execution_count": 6,
   "id": "90cf6740",
   "metadata": {},
   "outputs": [],
   "source": [
    "compiler.Compiler().compile(pipeline_func=pipeline,\n",
    "        package_path='pyfunc_training.json')"
   ]
  },
  {
   "cell_type": "code",
   "execution_count": 7,
   "id": "110e5587",
   "metadata": {},
   "outputs": [
    {
     "name": "stderr",
     "output_type": "stream",
     "text": [
      "/opt/conda/envs/nvtabular_dev_11.0/lib/python3.8/site-packages/kfp/v2/google/client/client.py:171: FutureWarning: AIPlatformClient will be deprecated in v1.9. Please use PipelineJob https://googleapis.dev/python/aiplatform/latest/_modules/google/cloud/aiplatform/pipeline_jobs.html in Vertex SDK. Install the SDK using \"pip install google-cloud-aiplatform\"\n",
      "  warnings.warn(\n"
     ]
    },
    {
     "data": {
      "text/html": [
       "See the Pipeline job <a href=\"https://console.cloud.google.com/vertex-ai/locations/us-central1/pipelines/runs/pyfunc-selector-test-20210808000240?project=renatoleite-321218\" target=\"_blank\" >here</a>."
      ],
      "text/plain": [
       "<IPython.core.display.HTML object>"
      ]
     },
     "metadata": {},
     "output_type": "display_data"
    }
   ],
   "source": [
    "api_client = AIPlatformClient(project_id=project_id, region=region)\n",
    "\n",
    "response = api_client.create_run_from_job_spec(\n",
    "    'pyfunc_training.json',\n",
    "    pipeline_root=pipeline_root_path,\n",
    "    parameter_values={\n",
    "        'project_id': project_id\n",
    "    })"
   ]
  },
  {
   "cell_type": "markdown",
   "id": "f225bf4c",
   "metadata": {},
   "source": [
    "# Execute Vertex Pipeline Step"
   ]
  },
  {
   "cell_type": "code",
   "execution_count": 6,
   "id": "54e6c962",
   "metadata": {},
   "outputs": [],
   "source": [
    "# Image based on Deeplearning Container\n",
    "@component(base_image='gcr.io/renatoleite-321218/test-nvt')\n",
    "def test_nvt_selector():\n",
    "    print('pass all - Deeplearning container')"
   ]
  },
  {
   "cell_type": "code",
   "execution_count": 16,
   "id": "ebb519e2",
   "metadata": {},
   "outputs": [],
   "source": [
    "# Image based on Merlin Training\n",
    "@component(base_image='gcr.io/renatoleite-321218/merlin-traning')\n",
    "def test_nvt_selector():\n",
    "    from nvtabular.utils import download_file\n",
    "    import numpy as np\n",
    "    from dask.distributed import Client\n",
    "    from dask_cuda import LocalCUDACluster\n",
    "\n",
    "    import nvtabular as nvt\n",
    "    from nvtabular.utils import device_mem_size, get_rmm_size\n",
    "\n",
    "    # External Dependencies\n",
    "    import numpy as np\n",
    "    from dask_cuda import LocalCUDACluster\n",
    "    from dask.distributed import Client\n",
    "\n",
    "    # NVTabular\n",
    "    import nvtabular as nvt\n",
    "    from nvtabular.ops import (\n",
    "        Categorify,\n",
    "        Clip,\n",
    "        FillMissing,\n",
    "        Normalize,\n",
    "    )\n",
    "    from nvtabular.utils import _pynvml_mem_size, device_mem_size\n",
    "\n",
    "    print('pass all - Merlin image')"
   ]
  },
  {
   "cell_type": "code",
   "execution_count": 15,
   "id": "5b29080b",
   "metadata": {},
   "outputs": [],
   "source": [
    "custom_nvt_comp = kfp.components.load_component_from_file('component.yaml')"
   ]
  },
  {
   "cell_type": "code",
   "execution_count": 5,
   "id": "6e6b8f1c",
   "metadata": {},
   "outputs": [],
   "source": [
    "# Run as a Vertex Pipeline step with GPU\n",
    "@kfp.dsl.pipeline(\n",
    "    name='pyfunc-selector-test',\n",
    "    pipeline_root=pipeline_root_path)\n",
    "def pipeline(project_id: str):\n",
    "    nvt_task = (test_nvt_selector().\n",
    "        set_cpu_limit('16').\n",
    "        set_memory_limit('32').\n",
    "        add_node_selector_constraint('cloud.google.com/gke-accelerator','nvidia-tesla-t4').\n",
    "        set_gpu_limit('2'))"
   ]
  },
  {
   "cell_type": "code",
   "execution_count": 16,
   "id": "baccacf4",
   "metadata": {},
   "outputs": [],
   "source": [
    "# Run as a Vertex Pipeline step\n",
    "@kfp.dsl.pipeline(\n",
    "    name='pyfunc-selector-test',\n",
    "    pipeline_root=pipeline_root_path)\n",
    "def pipeline(project_id: str):\n",
    "    nvt_custom_task = (custom_nvt_comp().\n",
    "        set_cpu_limit('16').\n",
    "        set_memory_limit('32').\n",
    "        add_node_selector_constraint('cloud.google.com/gke-accelerator','nvidia-tesla-t4').\n",
    "        set_gpu_limit('2'))"
   ]
  },
  {
   "cell_type": "code",
   "execution_count": 17,
   "id": "171e8978",
   "metadata": {},
   "outputs": [],
   "source": [
    "compiler.Compiler().compile(pipeline_func=pipeline,\n",
    "        package_path='pyfunc-selector-test.json')"
   ]
  },
  {
   "cell_type": "code",
   "execution_count": 18,
   "id": "d34be633",
   "metadata": {},
   "outputs": [
    {
     "name": "stderr",
     "output_type": "stream",
     "text": [
      "/opt/conda/envs/nvtabular_dev_11.0/lib/python3.8/site-packages/kfp/v2/google/client/client.py:171: FutureWarning: AIPlatformClient will be deprecated in v1.9. Please use PipelineJob https://googleapis.dev/python/aiplatform/latest/_modules/google/cloud/aiplatform/pipeline_jobs.html in Vertex SDK. Install the SDK using \"pip install google-cloud-aiplatform\"\n",
      "  warnings.warn(\n"
     ]
    },
    {
     "data": {
      "text/html": [
       "See the Pipeline job <a href=\"https://console.cloud.google.com/vertex-ai/locations/us-central1/pipelines/runs/pyfunc-selector-test-20210809004410?project=renatoleite-321218\" target=\"_blank\" >here</a>."
      ],
      "text/plain": [
       "<IPython.core.display.HTML object>"
      ]
     },
     "metadata": {},
     "output_type": "display_data"
    }
   ],
   "source": [
    "api_client = AIPlatformClient(project_id=project_id, region=region)\n",
    "\n",
    "response = api_client.create_run_from_job_spec(\n",
    "    'pyfunc-selector-test.json',\n",
    "    pipeline_root=pipeline_root_path,\n",
    "    parameter_values={\n",
    "        'project_id': project_id\n",
    "    })"
   ]
  },
  {
   "cell_type": "code",
   "execution_count": null,
   "id": "c7e50064",
   "metadata": {},
   "outputs": [],
   "source": []
  }
 ],
 "metadata": {
  "environment": {
   "name": "common-cu110.m76",
   "type": "gcloud",
   "uri": "gcr.io/deeplearning-platform-release/base-cu110:m76"
  },
  "kernelspec": {
   "display_name": "nvt110",
   "language": "python",
   "name": "nvt110"
  },
  "language_info": {
   "codemirror_mode": {
    "name": "ipython",
    "version": 3
   },
   "file_extension": ".py",
   "mimetype": "text/x-python",
   "name": "python",
   "nbconvert_exporter": "python",
   "pygments_lexer": "ipython3",
   "version": "3.8.10"
  }
 },
 "nbformat": 4,
 "nbformat_minor": 5
}
